{
 "metadata": {
  "name": "",
  "signature": "sha256:4c8191c29c297b40283352648a4f94810aa613aa3f7c570c6efc8f73b9146f84"
 },
 "nbformat": 3,
 "nbformat_minor": 0,
 "worksheets": [
  {
   "cells": [
    {
     "cell_type": "code",
     "collapsed": false,
     "input": [
      "import pandas as pd\n",
      "\n",
      "df = pd.read_csv('summit_crime_ungeocoded.csv')\n",
      "\n",
      "# must have a NIBRS code\n",
      "df = df[~df['nibrs_code'].isnull()]\n",
      "df.head()"
     ],
     "language": "python",
     "metadata": {},
     "outputs": [
      {
       "html": [
        "<div style=\"max-height:1000px;max-width:1500px;overflow:auto;\">\n",
        "<table border=\"1\" class=\"dataframe\">\n",
        "  <thead>\n",
        "    <tr style=\"text-align: right;\">\n",
        "      <th></th>\n",
        "      <th>address</th>\n",
        "      <th>city</th>\n",
        "      <th>datetime_occurred</th>\n",
        "      <th>district</th>\n",
        "      <th>lat</th>\n",
        "      <th>long</th>\n",
        "      <th>nibrs_code</th>\n",
        "      <th>report_number</th>\n",
        "      <th>zip</th>\n",
        "    </tr>\n",
        "  </thead>\n",
        "  <tbody>\n",
        "    <tr>\n",
        "      <th>0</th>\n",
        "      <td> 1203 MURRAY AV/115 AKERS AV</td>\n",
        "      <td> NaN</td>\n",
        "      <td> 1993-03-01 08:00:00</td>\n",
        "      <td>  2</td>\n",
        "      <td>      NaN</td>\n",
        "      <td>      NaN</td>\n",
        "      <td> 11A</td>\n",
        "      <td> 97-033629</td>\n",
        "      <td> 44310</td>\n",
        "    </tr>\n",
        "    <tr>\n",
        "      <th>1</th>\n",
        "      <td>             595 COLUMBIA AV</td>\n",
        "      <td> NaN</td>\n",
        "      <td> 1993-03-01 21:00:00</td>\n",
        "      <td>  2</td>\n",
        "      <td> 41.10169</td>\n",
        "      <td>-81.50469</td>\n",
        "      <td> 11A</td>\n",
        "      <td> 98-012719</td>\n",
        "      <td> 44310</td>\n",
        "    </tr>\n",
        "    <tr>\n",
        "      <th>2</th>\n",
        "      <td>         1071 SCHUMACHER AVE</td>\n",
        "      <td> NaN</td>\n",
        "      <td> 1993-05-01 22:00:00</td>\n",
        "      <td> 10</td>\n",
        "      <td> 41.06503</td>\n",
        "      <td>-81.54319</td>\n",
        "      <td> 11A</td>\n",
        "      <td> 96-027978</td>\n",
        "      <td> 44307</td>\n",
        "    </tr>\n",
        "    <tr>\n",
        "      <th>3</th>\n",
        "      <td>              564 MARVIEW AV</td>\n",
        "      <td> NaN</td>\n",
        "      <td> 1993-06-01 12:00:00</td>\n",
        "      <td>  2</td>\n",
        "      <td> 41.10116</td>\n",
        "      <td>-81.50331</td>\n",
        "      <td> 11A</td>\n",
        "      <td> 96-014563</td>\n",
        "      <td> 44310</td>\n",
        "    </tr>\n",
        "    <tr>\n",
        "      <th>4</th>\n",
        "      <td>              S ARLINGTON ST</td>\n",
        "      <td> NaN</td>\n",
        "      <td> 1993-06-17 00:01:00</td>\n",
        "      <td>  1</td>\n",
        "      <td> 41.07203</td>\n",
        "      <td>-81.49063</td>\n",
        "      <td> 11A</td>\n",
        "      <td> 04-005787</td>\n",
        "      <td> 44306</td>\n",
        "    </tr>\n",
        "  </tbody>\n",
        "</table>\n",
        "</div>"
       ],
       "metadata": {},
       "output_type": "pyout",
       "prompt_number": 11,
       "text": [
        "                       address city    datetime_occurred  district       lat  \\\n",
        "0  1203 MURRAY AV/115 AKERS AV  NaN  1993-03-01 08:00:00         2       NaN   \n",
        "1              595 COLUMBIA AV  NaN  1993-03-01 21:00:00         2  41.10169   \n",
        "2          1071 SCHUMACHER AVE  NaN  1993-05-01 22:00:00        10  41.06503   \n",
        "3               564 MARVIEW AV  NaN  1993-06-01 12:00:00         2  41.10116   \n",
        "4               S ARLINGTON ST  NaN  1993-06-17 00:01:00         1  41.07203   \n",
        "\n",
        "       long nibrs_code report_number    zip  \n",
        "0       NaN        11A     97-033629  44310  \n",
        "1 -81.50469        11A     98-012719  44310  \n",
        "2 -81.54319        11A     96-027978  44307  \n",
        "3 -81.50331        11A     96-014563  44310  \n",
        "4 -81.49063        11A     04-005787  44306  "
       ]
      }
     ],
     "prompt_number": 11
    },
    {
     "cell_type": "code",
     "collapsed": false,
     "input": [
      "df.info()"
     ],
     "language": "python",
     "metadata": {},
     "outputs": [
      {
       "output_type": "stream",
       "stream": "stdout",
       "text": [
        "<class 'pandas.core.frame.DataFrame'>\n",
        "Int64Index: 325148 entries, 0 to 346286\n",
        "Data columns (total 9 columns):\n",
        "address              325105 non-null object\n",
        "city                 142883 non-null object\n",
        "datetime_occurred    325148 non-null object\n",
        "district             325148 non-null int64\n",
        "lat                  124477 non-null float64\n",
        "long                 124477 non-null float64\n",
        "nibrs_code           325148 non-null object\n",
        "report_number        325148 non-null object\n",
        "zip                  324860 non-null object\n",
        "dtypes: float64(2), int64(1), object(6)"
       ]
      }
     ],
     "prompt_number": 12
    },
    {
     "cell_type": "code",
     "collapsed": false,
     "input": [
      "# the order of the list 'nibrs' is the order of severity of crime, so a 0 takes precedence over a 1, etc. \n",
      "nibrs= ['09A','09B','09C','100','11A','11B','11C','11D','120','13A','13B','13C','200','210','220','23A','23B','23C','23D','23E','23F', \\\n",
      "        '23G','23H','240','250','26A','26B','26C','26D','26E','270','280','290','35A','35B','36A','36B','370','39A','39B','39C','39D', \\\n",
      "        '40A','40B','510','520','90A','90B','90C','90D','90E','90F','90G','90H','90I','90J','90Z']\n",
      "nibrs_dict = dict(zip(nibrs, range(0,len(nibrs))))"
     ],
     "language": "python",
     "metadata": {},
     "outputs": [],
     "prompt_number": 13
    },
    {
     "cell_type": "code",
     "collapsed": false,
     "input": [
      "df['nibrs_num'] = df['nibrs_code'].apply(lambda x: nibrs_dict[x])"
     ],
     "language": "python",
     "metadata": {},
     "outputs": [],
     "prompt_number": 14
    },
    {
     "cell_type": "code",
     "collapsed": false,
     "input": [
      "df_filtered = df.sort('nibrs_num', ascending=True).groupby('report_number', as_index=False).first()"
     ],
     "language": "python",
     "metadata": {},
     "outputs": [],
     "prompt_number": 15
    },
    {
     "cell_type": "code",
     "collapsed": false,
     "input": [
      "df_filtered.info()"
     ],
     "language": "python",
     "metadata": {},
     "outputs": [
      {
       "output_type": "stream",
       "stream": "stdout",
       "text": [
        "<class 'pandas.core.frame.DataFrame'>\n",
        "Int64Index: 249568 entries, 0 to 249567\n",
        "Data columns (total 10 columns):\n",
        "report_number        249568 non-null object\n",
        "address              249532 non-null object\n",
        "city                 106240 non-null object\n",
        "datetime_occurred    249568 non-null object\n",
        "district             249568 non-null int64\n",
        "lat                  97076 non-null float64\n",
        "long                 97076 non-null float64\n",
        "nibrs_code           249568 non-null object\n",
        "zip                  249341 non-null object\n",
        "nibrs_num            249568 non-null int64\n",
        "dtypes: float64(2), int64(2), object(6)"
       ]
      }
     ],
     "prompt_number": 16
    },
    {
     "cell_type": "code",
     "collapsed": false,
     "input": [
      "# this is the list of all crimes with suitable NIBRS codes from which we would like to match the addresses back to\n",
      "\n",
      "df_filtered.to_csv('summit_crime_filtered_ungeocoded.csv',index_col=False)"
     ],
     "language": "python",
     "metadata": {},
     "outputs": [],
     "prompt_number": 46
    },
    {
     "cell_type": "markdown",
     "metadata": {},
     "source": [
      "Check to make sure that we are filtering correctly"
     ]
    },
    {
     "cell_type": "code",
     "collapsed": false,
     "input": [
      "len(set(df_filtered.address))"
     ],
     "language": "python",
     "metadata": {},
     "outputs": [
      {
       "metadata": {},
       "output_type": "pyout",
       "prompt_number": 31,
       "text": [
        "54932"
       ]
      }
     ],
     "prompt_number": 31
    },
    {
     "cell_type": "code",
     "collapsed": false,
     "input": [
      "df_filtered[df_filtered.report_number == df_filtered.report_number[100]]"
     ],
     "language": "python",
     "metadata": {},
     "outputs": [
      {
       "html": [
        "<div style=\"max-height:1000px;max-width:1500px;overflow:auto;\">\n",
        "<table border=\"1\" class=\"dataframe\">\n",
        "  <thead>\n",
        "    <tr style=\"text-align: right;\">\n",
        "      <th></th>\n",
        "      <th>report_number</th>\n",
        "      <th>address</th>\n",
        "      <th>city</th>\n",
        "      <th>datetime_occurred</th>\n",
        "      <th>district</th>\n",
        "      <th>lat</th>\n",
        "      <th>long</th>\n",
        "      <th>nibrs_code</th>\n",
        "      <th>zip</th>\n",
        "      <th>nibrs_num</th>\n",
        "    </tr>\n",
        "  </thead>\n",
        "  <tbody>\n",
        "    <tr>\n",
        "      <th>100</th>\n",
        "      <td> 8004984</td>\n",
        "      <td> W EXCHANGE ST/STORER AV</td>\n",
        "      <td> Akron</td>\n",
        "      <td> 2008-02-24 15:54:00</td>\n",
        "      <td> 8</td>\n",
        "      <td>NaN</td>\n",
        "      <td>NaN</td>\n",
        "      <td> 35A</td>\n",
        "      <td> 44302</td>\n",
        "      <td> 33</td>\n",
        "    </tr>\n",
        "  </tbody>\n",
        "</table>\n",
        "</div>"
       ],
       "metadata": {},
       "output_type": "pyout",
       "prompt_number": 17,
       "text": [
        "    report_number                  address   city    datetime_occurred  \\\n",
        "100       8004984  W EXCHANGE ST/STORER AV  Akron  2008-02-24 15:54:00   \n",
        "\n",
        "     district  lat  long nibrs_code    zip  nibrs_num  \n",
        "100         8  NaN   NaN        35A  44302         33  "
       ]
      }
     ],
     "prompt_number": 17
    },
    {
     "cell_type": "code",
     "collapsed": false,
     "input": [
      "df[df.report_number==df_filtered.report_number[100]]"
     ],
     "language": "python",
     "metadata": {},
     "outputs": [
      {
       "html": [
        "<div style=\"max-height:1000px;max-width:1500px;overflow:auto;\">\n",
        "<table border=\"1\" class=\"dataframe\">\n",
        "  <thead>\n",
        "    <tr style=\"text-align: right;\">\n",
        "      <th></th>\n",
        "      <th>address</th>\n",
        "      <th>city</th>\n",
        "      <th>datetime_occurred</th>\n",
        "      <th>district</th>\n",
        "      <th>lat</th>\n",
        "      <th>long</th>\n",
        "      <th>nibrs_code</th>\n",
        "      <th>report_number</th>\n",
        "      <th>zip</th>\n",
        "      <th>nibrs_num</th>\n",
        "    </tr>\n",
        "  </thead>\n",
        "  <tbody>\n",
        "    <tr>\n",
        "      <th>196750</th>\n",
        "      <td> W EXCHANGE ST/STORER AV</td>\n",
        "      <td> Akron</td>\n",
        "      <td> 2008-02-24 15:54:00</td>\n",
        "      <td> 8</td>\n",
        "      <td>NaN</td>\n",
        "      <td>NaN</td>\n",
        "      <td> 35A</td>\n",
        "      <td> 8004984</td>\n",
        "      <td> 44302</td>\n",
        "      <td> 33</td>\n",
        "    </tr>\n",
        "    <tr>\n",
        "      <th>196751</th>\n",
        "      <td> W EXCHANGE ST/STORER AV</td>\n",
        "      <td> Akron</td>\n",
        "      <td> 2008-02-24 15:54:00</td>\n",
        "      <td> 8</td>\n",
        "      <td>NaN</td>\n",
        "      <td>NaN</td>\n",
        "      <td> 35B</td>\n",
        "      <td> 8004984</td>\n",
        "      <td> 44302</td>\n",
        "      <td> 34</td>\n",
        "    </tr>\n",
        "  </tbody>\n",
        "</table>\n",
        "</div>"
       ],
       "metadata": {},
       "output_type": "pyout",
       "prompt_number": 18,
       "text": [
        "                        address   city    datetime_occurred  district  lat  \\\n",
        "196750  W EXCHANGE ST/STORER AV  Akron  2008-02-24 15:54:00         8  NaN   \n",
        "196751  W EXCHANGE ST/STORER AV  Akron  2008-02-24 15:54:00         8  NaN   \n",
        "\n",
        "        long nibrs_code report_number    zip  nibrs_num  \n",
        "196750   NaN        35A       8004984  44302         33  \n",
        "196751   NaN        35B       8004984  44302         34  "
       ]
      }
     ],
     "prompt_number": 18
    },
    {
     "cell_type": "code",
     "collapsed": false,
     "input": [
      "# get the list of properties that are missing either a lat or a long\n",
      "\n",
      "df_geo = df_filtered[(df_filtered['lat'].isnull()) | (df_filtered['long'].isnull())]"
     ],
     "language": "python",
     "metadata": {},
     "outputs": [],
     "prompt_number": 19
    },
    {
     "cell_type": "code",
     "collapsed": false,
     "input": [
      "# get the crimes with unique addresses\n",
      "df_geo = df_geo.sort('report_number', ascending=True).groupby('address', as_index=False).first()"
     ],
     "language": "python",
     "metadata": {},
     "outputs": [],
     "prompt_number": 20
    },
    {
     "cell_type": "code",
     "collapsed": false,
     "input": [
      "f = sorted(df_filtered['address'])"
     ],
     "language": "python",
     "metadata": {},
     "outputs": [],
     "prompt_number": 38
    },
    {
     "cell_type": "code",
     "collapsed": false,
     "input": [
      "f[:10]"
     ],
     "language": "python",
     "metadata": {},
     "outputs": [
      {
       "metadata": {},
       "output_type": "pyout",
       "prompt_number": 45,
       "text": [
        "[nan, nan, nan, nan, nan, nan, nan, nan, nan, nan]"
       ]
      }
     ],
     "prompt_number": 45
    },
    {
     "cell_type": "code",
     "collapsed": false,
     "input": [
      "df_geo.head(10)"
     ],
     "language": "python",
     "metadata": {},
     "outputs": [
      {
       "html": [
        "<div style=\"max-height:1000px;max-width:1500px;overflow:auto;\">\n",
        "<table border=\"1\" class=\"dataframe\">\n",
        "  <thead>\n",
        "    <tr style=\"text-align: right;\">\n",
        "      <th></th>\n",
        "      <th>address</th>\n",
        "      <th>report_number</th>\n",
        "      <th>city</th>\n",
        "      <th>datetime_occurred</th>\n",
        "      <th>district</th>\n",
        "      <th>lat</th>\n",
        "      <th>long</th>\n",
        "      <th>nibrs_code</th>\n",
        "      <th>zip</th>\n",
        "      <th>nibrs_num</th>\n",
        "    </tr>\n",
        "  </thead>\n",
        "  <tbody>\n",
        "    <tr>\n",
        "      <th>0</th>\n",
        "      <td> #1 CASCADE PLAZA</td>\n",
        "      <td> 97-006244</td>\n",
        "      <td>   NaN</td>\n",
        "      <td> 1997-02-23 17:30:00</td>\n",
        "      <td>  1</td>\n",
        "      <td>NaN</td>\n",
        "      <td>NaN</td>\n",
        "      <td> 100</td>\n",
        "      <td> 44308</td>\n",
        "      <td>  3</td>\n",
        "    </tr>\n",
        "    <tr>\n",
        "      <th>1</th>\n",
        "      <td>             ****</td>\n",
        "      <td>  10001060</td>\n",
        "      <td> Akron</td>\n",
        "      <td> 2010-01-14 22:00:00</td>\n",
        "      <td>  8</td>\n",
        "      <td>NaN</td>\n",
        "      <td>NaN</td>\n",
        "      <td> 120</td>\n",
        "      <td> 44320</td>\n",
        "      <td>  8</td>\n",
        "    </tr>\n",
        "    <tr>\n",
        "      <th>2</th>\n",
        "      <td>               01</td>\n",
        "      <td> 97-008348</td>\n",
        "      <td>   NaN</td>\n",
        "      <td> 1997-03-15 14:00:00</td>\n",
        "      <td> 11</td>\n",
        "      <td>NaN</td>\n",
        "      <td>NaN</td>\n",
        "      <td> 11A</td>\n",
        "      <td> 44305</td>\n",
        "      <td>  4</td>\n",
        "    </tr>\n",
        "    <tr>\n",
        "      <th>3</th>\n",
        "      <td> 01 E EXCHANGE ST</td>\n",
        "      <td>  14027628</td>\n",
        "      <td> Akron</td>\n",
        "      <td> 2014-11-14 23:15:00</td>\n",
        "      <td>  1</td>\n",
        "      <td>NaN</td>\n",
        "      <td>NaN</td>\n",
        "      <td> 90C</td>\n",
        "      <td> 44308</td>\n",
        "      <td> 48</td>\n",
        "    </tr>\n",
        "    <tr>\n",
        "      <th>4</th>\n",
        "      <td>           030105</td>\n",
        "      <td> 05-006138</td>\n",
        "      <td>   NaN</td>\n",
        "      <td> 2005-03-01 04:43:00</td>\n",
        "      <td>  1</td>\n",
        "      <td>NaN</td>\n",
        "      <td>NaN</td>\n",
        "      <td> 90C</td>\n",
        "      <td> 44308</td>\n",
        "      <td> 48</td>\n",
        "    </tr>\n",
        "    <tr>\n",
        "      <th>5</th>\n",
        "      <td>           033105</td>\n",
        "      <td> 05-009215</td>\n",
        "      <td>   NaN</td>\n",
        "      <td> 2005-03-31 05:06:00</td>\n",
        "      <td>  1</td>\n",
        "      <td>NaN</td>\n",
        "      <td>NaN</td>\n",
        "      <td> 90C</td>\n",
        "      <td> 44308</td>\n",
        "      <td> 48</td>\n",
        "    </tr>\n",
        "    <tr>\n",
        "      <th>6</th>\n",
        "      <td>           051305</td>\n",
        "      <td> 05-014502</td>\n",
        "      <td>   NaN</td>\n",
        "      <td> 2005-05-13 09:00:00</td>\n",
        "      <td> 10</td>\n",
        "      <td>NaN</td>\n",
        "      <td>NaN</td>\n",
        "      <td> 13B</td>\n",
        "      <td> 44311</td>\n",
        "      <td> 10</td>\n",
        "    </tr>\n",
        "    <tr>\n",
        "      <th>7</th>\n",
        "      <td>           051505</td>\n",
        "      <td> 05-014723</td>\n",
        "      <td>   NaN</td>\n",
        "      <td> 2005-05-14 23:29:00</td>\n",
        "      <td> 10</td>\n",
        "      <td>NaN</td>\n",
        "      <td>NaN</td>\n",
        "      <td> 90B</td>\n",
        "      <td> 44307</td>\n",
        "      <td> 47</td>\n",
        "    </tr>\n",
        "    <tr>\n",
        "      <th>8</th>\n",
        "      <td>           060404</td>\n",
        "      <td> 04-017588</td>\n",
        "      <td>   NaN</td>\n",
        "      <td> 2004-06-04 19:00:00</td>\n",
        "      <td> 11</td>\n",
        "      <td>NaN</td>\n",
        "      <td>NaN</td>\n",
        "      <td> 90C</td>\n",
        "      <td> 44306</td>\n",
        "      <td> 48</td>\n",
        "    </tr>\n",
        "    <tr>\n",
        "      <th>9</th>\n",
        "      <td>           081804</td>\n",
        "      <td> 04-027288</td>\n",
        "      <td>   NaN</td>\n",
        "      <td> 2004-08-18 15:59:00</td>\n",
        "      <td>  1</td>\n",
        "      <td>NaN</td>\n",
        "      <td>NaN</td>\n",
        "      <td> 90J</td>\n",
        "      <td> 44311</td>\n",
        "      <td> 55</td>\n",
        "    </tr>\n",
        "  </tbody>\n",
        "</table>\n",
        "</div>"
       ],
       "metadata": {},
       "output_type": "pyout",
       "prompt_number": 33,
       "text": [
        "            address report_number   city    datetime_occurred  district  lat  \\\n",
        "0  #1 CASCADE PLAZA     97-006244    NaN  1997-02-23 17:30:00         1  NaN   \n",
        "1              ****      10001060  Akron  2010-01-14 22:00:00         8  NaN   \n",
        "2                01     97-008348    NaN  1997-03-15 14:00:00        11  NaN   \n",
        "3  01 E EXCHANGE ST      14027628  Akron  2014-11-14 23:15:00         1  NaN   \n",
        "4            030105     05-006138    NaN  2005-03-01 04:43:00         1  NaN   \n",
        "5            033105     05-009215    NaN  2005-03-31 05:06:00         1  NaN   \n",
        "6            051305     05-014502    NaN  2005-05-13 09:00:00        10  NaN   \n",
        "7            051505     05-014723    NaN  2005-05-14 23:29:00        10  NaN   \n",
        "8            060404     04-017588    NaN  2004-06-04 19:00:00        11  NaN   \n",
        "9            081804     04-027288    NaN  2004-08-18 15:59:00         1  NaN   \n",
        "\n",
        "   long nibrs_code    zip  nibrs_num  \n",
        "0   NaN        100  44308          3  \n",
        "1   NaN        120  44320          8  \n",
        "2   NaN        11A  44305          4  \n",
        "3   NaN        90C  44308         48  \n",
        "4   NaN        90C  44308         48  \n",
        "5   NaN        90C  44308         48  \n",
        "6   NaN        13B  44311         10  \n",
        "7   NaN        90B  44307         47  \n",
        "8   NaN        90C  44306         48  \n",
        "9   NaN        90J  44311         55  "
       ]
      }
     ],
     "prompt_number": 33
    },
    {
     "cell_type": "code",
     "collapsed": false,
     "input": [
      "def zip_string(x):\n",
      "    try:\n",
      "        x = str(int(x))\n",
      "    except ValueError:\n",
      "        x = str('')\n",
      "    return x\n",
      "df_geo['zip'] = df_geo['zip'].apply(zip_string) \n",
      "df_geo.address = df_geo.address.apply(str.upper)"
     ],
     "language": "python",
     "metadata": {},
     "outputs": [],
     "prompt_number": 23
    },
    {
     "cell_type": "code",
     "collapsed": false,
     "input": [
      "print set(df_geo['zip'])"
     ],
     "language": "python",
     "metadata": {},
     "outputs": [
      {
       "output_type": "stream",
       "stream": "stdout",
       "text": [
        "set(['44333', '44314', '44311', '44310', '44313', '44312', '983', '4308', '44319', '21122', '637', '44505', '443085', '44293', '4310', '4320', '414313', '4307', '4410', '', '443304', '38251', '1473', '44', '120798', '0', '443078', '443202', '1', '443', '2', '4', '443101', '443007', '4444310', '402', '44306', '44307', '44304', '44305', '44302', '44303', '44278', '44301', '638', '44325', '44507', '44320', '44321', '44308', '44309', '4444308', '44322', '44240', '443410', '4444302', '44714', '4434', '444310', '44221', '44105', '44223', '443111', '443074', '1356', '44370', '44207', '4431', '44397', '43410', '44203', '4420', '44350'])\n"
       ]
      }
     ],
     "prompt_number": 24
    },
    {
     "cell_type": "code",
     "collapsed": false,
     "input": [
      "print len(set(df_geo.address))"
     ],
     "language": "python",
     "metadata": {},
     "outputs": [
      {
       "output_type": "stream",
       "stream": "stdout",
       "text": [
        "42367\n"
       ]
      }
     ],
     "prompt_number": 25
    },
    {
     "cell_type": "code",
     "collapsed": false,
     "input": [
      "df_geo.to_csv('geocode_me.csv', columns=['report_number','address','city','zip','lat','long'])"
     ],
     "language": "python",
     "metadata": {},
     "outputs": [],
     "prompt_number": 27
    },
    {
     "cell_type": "code",
     "collapsed": false,
     "input": [],
     "language": "python",
     "metadata": {},
     "outputs": []
    }
   ],
   "metadata": {}
  }
 ]
}