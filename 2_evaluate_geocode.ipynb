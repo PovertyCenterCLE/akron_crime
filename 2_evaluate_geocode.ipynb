{
 "metadata": {
  "name": "",
  "signature": "sha256:2ef03d4a96ddc7486e4cfa7132dd5152b3cc08c5310122e62f7b2ba195e6ab17"
 },
 "nbformat": 3,
 "nbformat_minor": 0,
 "worksheets": [
  {
   "cells": [
    {
     "cell_type": "markdown",
     "metadata": {},
     "source": [
      "## Evaluate the geocode output\n",
      "\n",
      "Geocoding was done using ArcMap and returned 41984 matched, 331 tied, and 52 unmatched for a *reported* 99% accuracy. "
     ]
    },
    {
     "cell_type": "code",
     "collapsed": false,
     "input": [
      "import pandas as pd"
     ],
     "language": "python",
     "metadata": {},
     "outputs": [],
     "prompt_number": 1
    },
    {
     "cell_type": "code",
     "collapsed": false,
     "input": [
      "# geocoded_crime.csv is a subset of addresses, as there were many repeated addresses!\n",
      "\n",
      "df = pd.read_csv('data/geocoded.csv',index_col=[0])\n",
      "df_geocodeme = pd.read_csv('data/geocode_me.csv', index_col=[0])"
     ],
     "language": "python",
     "metadata": {},
     "outputs": [
      {
       "output_type": "stream",
       "stream": "stderr",
       "text": [
        "C:\\Users\\crw\\Anaconda\\lib\\site-packages\\pandas\\io\\parsers.py:1139: DtypeWarning: Columns (21) have mixed types. Specify dtype option on import or set low_memory=False.\n",
        "  data = self._reader.read(nrows)\n"
       ]
      }
     ],
     "prompt_number": 2
    },
    {
     "cell_type": "code",
     "collapsed": false,
     "input": [
      "print len(df), len(df_geocodeme)"
     ],
     "language": "python",
     "metadata": {},
     "outputs": [
      {
       "output_type": "stream",
       "stream": "stdout",
       "text": [
        "42367 42367\n"
       ]
      }
     ],
     "prompt_number": 3
    },
    {
     "cell_type": "markdown",
     "metadata": {},
     "source": [
      "Let's check how many were geocoded in Ohio..."
     ]
    },
    {
     "cell_type": "code",
     "collapsed": false,
     "input": [
      "print \"Percent geocoded in Ohio:\", len(df[df.region=='Ohio'])*100.0/len(df)"
     ],
     "language": "python",
     "metadata": {},
     "outputs": [
      {
       "output_type": "stream",
       "stream": "stdout",
       "text": [
        " Percent geocoded in Ohio: "
       ]
      },
      {
       "output_type": "stream",
       "stream": "stdout",
       "text": [
        "95.8505440555\n"
       ]
      }
     ],
     "prompt_number": 6
    },
    {
     "cell_type": "markdown",
     "metadata": {},
     "source": [
      "This is clearly not up to the reported 99% accuracy, but still pretty good."
     ]
    },
    {
     "cell_type": "code",
     "collapsed": false,
     "input": [
      "# df_filtered has the crime events filtered by nibrs_code, so we are ignoring a sizeable percent of events that had multiple charges\n",
      "df_filtered = pd.read_csv('data/summit_crime_filtered_ungeocoded.csv', index_col = [0])"
     ],
     "language": "python",
     "metadata": {},
     "outputs": [
      {
       "output_type": "stream",
       "stream": "stderr",
       "text": [
        "C:\\Users\\crw\\Anaconda\\lib\\site-packages\\pandas\\io\\parsers.py:1139: DtypeWarning: Columns (1,3,9) have mixed types. Specify dtype option on import or set low_memory=False.\n",
        "  data = self._reader.read(nrows)\n"
       ]
      }
     ],
     "prompt_number": 8
    },
    {
     "cell_type": "code",
     "collapsed": false,
     "input": [
      "print len(set(df_filtered.address)), len(df.address)"
     ],
     "language": "python",
     "metadata": {},
     "outputs": [
      {
       "output_type": "stream",
       "stream": "stdout",
       "text": [
        "54897 42367\n"
       ]
      }
     ],
     "prompt_number": 9
    },
    {
     "cell_type": "markdown",
     "metadata": {},
     "source": [
      "Let's merge the filtered crime data with the addresses and see what our performance is."
     ]
    },
    {
     "cell_type": "code",
     "collapsed": false,
     "input": [
      "# left join of the crime events and the geocoded address, on the address\n",
      "df_geocoded = pd.merge(df_filtered, df[['address','x','y']],how='left',on=['address'])"
     ],
     "language": "python",
     "metadata": {},
     "outputs": [],
     "prompt_number": 10
    },
    {
     "cell_type": "code",
     "collapsed": false,
     "input": [
      "df_geocoded.head()"
     ],
     "language": "python",
     "metadata": {},
     "outputs": [
      {
       "html": [
        "<div style=\"max-height:1000px;max-width:1500px;overflow:auto;\">\n",
        "<table border=\"1\" class=\"dataframe\">\n",
        "  <thead>\n",
        "    <tr style=\"text-align: right;\">\n",
        "      <th></th>\n",
        "      <th>report_number</th>\n",
        "      <th>address</th>\n",
        "      <th>city</th>\n",
        "      <th>datetime_occurred</th>\n",
        "      <th>district</th>\n",
        "      <th>lat</th>\n",
        "      <th>long</th>\n",
        "      <th>nibrs_code</th>\n",
        "      <th>zip</th>\n",
        "      <th>nibrs_num</th>\n",
        "      <th>x</th>\n",
        "      <th>y</th>\n",
        "    </tr>\n",
        "  </thead>\n",
        "  <tbody>\n",
        "    <tr>\n",
        "      <th>0</th>\n",
        "      <td> 7037668</td>\n",
        "      <td> 928 BYE ST</td>\n",
        "      <td> Akron</td>\n",
        "      <td> 2007-12-22 02:40:00</td>\n",
        "      <td> 8</td>\n",
        "      <td>NaN</td>\n",
        "      <td>NaN</td>\n",
        "      <td> 13B</td>\n",
        "      <td> 44320</td>\n",
        "      <td> 10</td>\n",
        "      <td>-81.549922</td>\n",
        "      <td> 41.089023</td>\n",
        "    </tr>\n",
        "    <tr>\n",
        "      <th>1</th>\n",
        "      <td> 8012714</td>\n",
        "      <td> 928 BYE ST</td>\n",
        "      <td> Akron</td>\n",
        "      <td> 2008-05-09 23:15:00</td>\n",
        "      <td> 8</td>\n",
        "      <td>NaN</td>\n",
        "      <td>NaN</td>\n",
        "      <td> 13A</td>\n",
        "      <td> 44320</td>\n",
        "      <td>  9</td>\n",
        "      <td>-81.549922</td>\n",
        "      <td> 41.089023</td>\n",
        "    </tr>\n",
        "    <tr>\n",
        "      <th>2</th>\n",
        "      <td> 8017771</td>\n",
        "      <td> 928 BYE ST</td>\n",
        "      <td> Akron</td>\n",
        "      <td> 2008-06-24 01:35:00</td>\n",
        "      <td> 8</td>\n",
        "      <td>NaN</td>\n",
        "      <td>NaN</td>\n",
        "      <td> 90C</td>\n",
        "      <td> 44320</td>\n",
        "      <td> 48</td>\n",
        "      <td>-81.549922</td>\n",
        "      <td> 41.089023</td>\n",
        "    </tr>\n",
        "    <tr>\n",
        "      <th>3</th>\n",
        "      <td> 8031984</td>\n",
        "      <td> 928 BYE ST</td>\n",
        "      <td> Akron</td>\n",
        "      <td> 2008-10-22 16:34:00</td>\n",
        "      <td> 8</td>\n",
        "      <td>NaN</td>\n",
        "      <td>NaN</td>\n",
        "      <td> 90Z</td>\n",
        "      <td> 44320</td>\n",
        "      <td> 56</td>\n",
        "      <td>-81.549922</td>\n",
        "      <td> 41.089023</td>\n",
        "    </tr>\n",
        "    <tr>\n",
        "      <th>4</th>\n",
        "      <td> 9015543</td>\n",
        "      <td> 928 BYE ST</td>\n",
        "      <td> Akron</td>\n",
        "      <td> 2009-06-05 17:07:00</td>\n",
        "      <td> 8</td>\n",
        "      <td>NaN</td>\n",
        "      <td>NaN</td>\n",
        "      <td> 13C</td>\n",
        "      <td> 44320</td>\n",
        "      <td> 11</td>\n",
        "      <td>-81.549922</td>\n",
        "      <td> 41.089023</td>\n",
        "    </tr>\n",
        "  </tbody>\n",
        "</table>\n",
        "</div>"
       ],
       "metadata": {},
       "output_type": "pyout",
       "prompt_number": 11,
       "text": [
        "  report_number     address   city    datetime_occurred  district  lat  long  \\\n",
        "0       7037668  928 BYE ST  Akron  2007-12-22 02:40:00         8  NaN   NaN   \n",
        "1       8012714  928 BYE ST  Akron  2008-05-09 23:15:00         8  NaN   NaN   \n",
        "2       8017771  928 BYE ST  Akron  2008-06-24 01:35:00         8  NaN   NaN   \n",
        "3       8031984  928 BYE ST  Akron  2008-10-22 16:34:00         8  NaN   NaN   \n",
        "4       9015543  928 BYE ST  Akron  2009-06-05 17:07:00         8  NaN   NaN   \n",
        "\n",
        "  nibrs_code    zip  nibrs_num          x          y  \n",
        "0        13B  44320         10 -81.549922  41.089023  \n",
        "1        13A  44320          9 -81.549922  41.089023  \n",
        "2        90C  44320         48 -81.549922  41.089023  \n",
        "3        90Z  44320         56 -81.549922  41.089023  \n",
        "4        13C  44320         11 -81.549922  41.089023  "
       ]
      }
     ],
     "prompt_number": 11
    },
    {
     "cell_type": "markdown",
     "metadata": {},
     "source": [
      "Now let's put the geocoded lat/long (x/y) into the lat/fields."
     ]
    },
    {
     "cell_type": "code",
     "collapsed": false,
     "input": [
      "# for events that got geocoded replace lat/long with the geocoded x/y\n",
      "def replace(x):\n",
      "    if not x['lat'] or x['long']:\n",
      "        x['lat'] = x['x']\n",
      "        x['long'] = x['y']\n",
      "    return x\n",
      "df_geocoded = df_geocoded.apply(replace, axis=1)"
     ],
     "language": "python",
     "metadata": {},
     "outputs": [],
     "prompt_number": 13
    },
    {
     "cell_type": "code",
     "collapsed": false,
     "input": [
      "df_geocoded = df_geocoded[(~df_geocoded['lat'].isnull()) & (~df_geocoded['long'].isnull())]"
     ],
     "language": "python",
     "metadata": {},
     "outputs": [],
     "prompt_number": 14
    },
    {
     "cell_type": "code",
     "collapsed": false,
     "input": [
      "print len(df_geocoded), len(df_filtered)"
     ],
     "language": "python",
     "metadata": {},
     "outputs": [
      {
       "output_type": "stream",
       "stream": "stdout",
       "text": [
        "231289 249568\n"
       ]
      }
     ],
     "prompt_number": 15
    },
    {
     "cell_type": "code",
     "collapsed": false,
     "input": [
      "print(\"So we've really only geocoded {0:.2f}% of crime events.\".format(231234.0/249568*100)) "
     ],
     "language": "python",
     "metadata": {},
     "outputs": [
      {
       "output_type": "stream",
       "stream": "stdout",
       "text": [
        "So we've really only geocoded 92.65% of crime events.\n"
       ]
      }
     ],
     "prompt_number": 18
    },
    {
     "cell_type": "code",
     "collapsed": false,
     "input": [
      "df_geocoded[['report_number','address','city','datetime_occurred','district','lat','long','nibrs_code','zip','nibrs_num']]\\\n",
      "    .to_csv('data/akron_crime_filtered_geocoded.csv',index=False)"
     ],
     "language": "python",
     "metadata": {},
     "outputs": [],
     "prompt_number": 115
    }
   ],
   "metadata": {}
  }
 ]
}