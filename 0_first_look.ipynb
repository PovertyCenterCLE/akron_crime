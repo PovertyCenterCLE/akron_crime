{
 "metadata": {
  "name": "",
  "signature": "sha256:d01e4648d0c69b70964aaf3ea514a65f4f43a6bc2c920d000f2a44434e39a6e1"
 },
 "nbformat": 3,
 "nbformat_minor": 0,
 "worksheets": [
  {
   "cells": [
    {
     "cell_type": "markdown",
     "metadata": {},
     "source": [
      "##0. Initial look into crime data\n",
      "\n",
      "Purpose:\n",
      "* import data files and merge important features into one dataset"
     ]
    },
    {
     "cell_type": "code",
     "collapsed": false,
     "input": [
      "import pandas as pd\n",
      "import numpy as np\n",
      "import unicodedata"
     ],
     "language": "python",
     "metadata": {},
     "outputs": [],
     "prompt_number": 2
    },
    {
     "cell_type": "markdown",
     "metadata": {},
     "source": [
      "We want to have the latitude and longitude for all crime events. The info we need is:\n",
      "* report number\n",
      "* report date/time\n",
      "* address\n",
      "* zip\n",
      "* lat\n",
      "* long\n",
      "* NIBRS code"
     ]
    },
    {
     "cell_type": "code",
     "collapsed": false,
     "input": [
      "# read in all the excel files with the first code styling\n",
      "\n",
      "df = pd.ExcelFile(\"data/1993 AND 1994.xlsx\").parse(parse_dates= True)\n",
      "df = df.append(pd.ExcelFile(\"data/1995 AND 1996.xlsx\").parse())\n",
      "df = df.append(pd.ExcelFile(\"data/1997 AND 1998.xlsx\").parse())\n",
      "df = df.append(pd.ExcelFile(\"data/1999 AND 2000.xlsx\").parse())\n",
      "df = df.append(pd.ExcelFile(\"data/2001 AND 2002.xlsx\").parse())\n",
      "df = df.append(pd.ExcelFile(\"data/2003 AND 2004.xlsx\").parse())\n",
      "df = df.append(pd.ExcelFile(\"data/2005 THROUGH 2007.xlsx\").parse())"
     ],
     "language": "python",
     "metadata": {},
     "outputs": [],
     "prompt_number": 3
    },
    {
     "cell_type": "code",
     "collapsed": false,
     "input": [
      "# rename the columns, we have more columns than we need\n",
      "print len(df)\n",
      "print df.columns.values\n",
      "df.columns = ['report_number','address','code_text','datetime_occurred','district','nibrs_code','long','lat','zip','nature']\n",
      "print df.columns.values"
     ],
     "language": "python",
     "metadata": {},
     "outputs": [
      {
       "output_type": "stream",
       "stream": "stdout",
       "text": [
        "182265\n",
        "['report_number' 'address' 'code_text' 'datetime_occurred' 'district'\n",
        " 'nibrs_code' 'long' 'lat' 'zip' 'nature']\n",
        "['report_number' 'address' 'code_text' 'datetime_occurred' 'district'\n",
        " 'nibrs_code' 'long' 'lat' 'zip' 'nature']\n"
       ]
      }
     ],
     "prompt_number": 5
    },
    {
     "cell_type": "code",
     "collapsed": false,
     "input": [
      "# read the second style of crime reporting excel files \n",
      "\n",
      "df2 = pd.ExcelFile(\"data/2007 REPORT DATA.xlsx\").parse()\n",
      "df2 = df2.append(pd.ExcelFile(\"data/2008 REPORT DATA.xlsx\").parse())\n",
      "df2 = df2.append(pd.ExcelFile(\"data/2009 REPORT DATA.xlsx\").parse())\n",
      "df2 = df2.append(pd.ExcelFile(\"data/2010 REPORT DATA.xlsx\").parse())\n",
      "df2 = df2.append(pd.ExcelFile(\"data/2011 REPORT DATA.xlsx\").parse())\n",
      "df2 = df2.append(pd.ExcelFile(\"data/2012 REPORT DATA.xlsx\").parse())\n",
      "df2 = df2.append(pd.ExcelFile(\"data/2013 REPORT DATA.xlsx\").parse())\n",
      "df2 = df2.append(pd.ExcelFile(\"data/2014 REPORT DATA.xlsx\").parse())\n",
      "df2 = df2.append(pd.ExcelFile(\"data/2015 REPORT DATA.xlsx\").parse())"
     ],
     "language": "python",
     "metadata": {},
     "outputs": [],
     "prompt_number": 4
    },
    {
     "cell_type": "code",
     "collapsed": false,
     "input": [
      "# rename the columns, we have more columns than we need, and different ones!\n",
      "\n",
      "print len(df2)\n",
      "print df2.columns.values\n",
      "df2.columns = ['report_number','datetime_reported','address','apt','city','zip','district','datetime_occurred','datetime_to','nibrs_code','nature']\n",
      "print df2.columns.values"
     ],
     "language": "python",
     "metadata": {},
     "outputs": [
      {
       "output_type": "stream",
       "stream": "stdout",
       "text": [
        "164022\n",
        "Index([u'ReportNumber', u'ReportDateTime', u'IncidentAddress', u'IncidentApt', u'IncidentCity', u'IncidentZip', u'IncidentDistrict', u'IncidentFrom', u'IncidentTo', u'NibrsCode', u'OffenseDescription'], dtype='object')\n",
        "Index([u'report_number', u'datetime_reported', u'address', u'apt', u'city', u'zip', u'district', u'datetime_occurred', u'datetime_to', u'nibrs_code', u'nature'], dtype='object')\n"
       ]
      }
     ],
     "prompt_number": 6
    },
    {
     "cell_type": "code",
     "collapsed": false,
     "input": [
      "# combine the two dataframes, including columns will just lead to the creation of NaN entries\n",
      "\n",
      "df3 = df[['report_number','address','datetime_occurred','district','nibrs_code','long','lat','zip']].append( \\\n",
      "      df2[['report_number','address','city','datetime_occurred','district','nibrs_code','zip']])"
     ],
     "language": "python",
     "metadata": {},
     "outputs": [],
     "prompt_number": 7
    },
    {
     "cell_type": "code",
     "collapsed": false,
     "input": [
      "# how many null values are there?\n",
      "\n",
      "print len(df3)\n",
      "print df3.isnull().sum()"
     ],
     "language": "python",
     "metadata": {},
     "outputs": [
      {
       "output_type": "stream",
       "stream": "stdout",
       "text": [
        "346287\n",
        "address                  54\n",
        "city                 182265\n",
        "datetime_occurred         0\n",
        "district                  0\n",
        "lat                  221810\n",
        "long                 221810\n",
        "nibrs_code            21139\n",
        "report_number             0\n",
        "zip                     337\n",
        "dtype: int64"
       ]
      },
      {
       "output_type": "stream",
       "stream": "stdout",
       "text": [
        "\n"
       ]
      }
     ],
     "prompt_number": 8
    },
    {
     "cell_type": "code",
     "collapsed": false,
     "input": [
      "# capitalize the nibrs_code and the city fields \n",
      "\n",
      "df3.loc[~df3['nibrs_code'].isnull(),'nibrs_code'] = df3.loc[~df3['nibrs_code'].isnull(),'nibrs_code'].apply(lambda x: str(x).upper())\n",
      "df3.loc[~df3['city'].isnull(),'city'] =df3.loc[~df3['city'].isnull(),'city'].apply(lambda x: str(x).upper())"
     ],
     "language": "python",
     "metadata": {},
     "outputs": [],
     "prompt_number": 23
    },
    {
     "cell_type": "code",
     "collapsed": false,
     "input": [
      "# make the zip field a string\n",
      "def clean_zip(x):\n",
      "    try:\n",
      "        x = str(int(x))\n",
      "    except ValueError:\n",
      "        pass\n",
      "    return x  \n",
      "\n",
      "df3['zip'] = df3['zip'].apply(clean_zip)"
     ],
     "language": "python",
     "metadata": {},
     "outputs": [],
     "prompt_number": 9
    },
    {
     "cell_type": "code",
     "collapsed": false,
     "input": [
      "# make the address uppercase as well\n",
      "def uppercase(s):\n",
      "    try:\n",
      "        s = s.upper()\n",
      "    except AttributeError:\n",
      "        pass\n",
      "    except TypeError:\n",
      "        pass\n",
      "    return s\n",
      "\n",
      "df3['address'] = df3['address'].apply(uppercase)"
     ],
     "language": "python",
     "metadata": {},
     "outputs": [],
     "prompt_number": 15
    },
    {
     "cell_type": "markdown",
     "metadata": {},
     "source": [
      "Making these fields uppercase allows us to filter common entries easier!"
     ]
    },
    {
     "cell_type": "code",
     "collapsed": false,
     "input": [
      "df3.info()"
     ],
     "language": "python",
     "metadata": {},
     "outputs": [
      {
       "output_type": "stream",
       "stream": "stdout",
       "text": [
        "<class 'pandas.core.frame.DataFrame'>\n",
        "Int64Index: 346287 entries, 0 to 3942\n",
        "Data columns (total 9 columns):\n",
        "address              346233 non-null object\n",
        "city                 164022 non-null object\n",
        "datetime_occurred    346287 non-null datetime64[ns]\n",
        "district             346287 non-null int64\n",
        "lat                  124477 non-null float64\n",
        "long                 124477 non-null float64\n",
        "nibrs_code           325148 non-null object\n",
        "report_number        346287 non-null object\n",
        "zip                  345950 non-null object\n",
        "dtypes: datetime64[ns](1), float64(2), int64(1), object(5)"
       ]
      }
     ],
     "prompt_number": 16
    },
    {
     "cell_type": "code",
     "collapsed": false,
     "input": [
      "df3.to_csv('data/summit_crime_ungeocoded.csv',index=False, encoding='utf-8')"
     ],
     "language": "python",
     "metadata": {},
     "outputs": [],
     "prompt_number": 18
    }
   ],
   "metadata": {}
  }
 ]
}